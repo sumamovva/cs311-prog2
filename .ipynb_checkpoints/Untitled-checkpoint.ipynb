{
 "cells": [
  {
   "cell_type": "code",
   "execution_count": null,
   "metadata": {},
   "outputs": [],
   "source": [
    "\n",
    "# Python program to find out whether a  \n",
    "# given graph is Bipartite or not \n",
    "  \n",
    "class Graph(): \n",
    "  \n",
    "    def __init__(self, V): \n",
    "        self.V = V \n",
    "        self.graph = [[0 for column in range(V)] \\ \n",
    "                                for row in range(V)] \n",
    "  \n",
    "    def create_adj_list(self):\n",
    "        pass\n",
    "    \n",
    "    \n",
    "    # This function returns true if graph G[V][V]  \n",
    "    # is Bipartite, else false \n",
    "    def isBipartite(self, src): \n",
    "  \n",
    "        # Create a color array to store colors  \n",
    "        # assigned to all veritces. Vertex \n",
    "        # number is used as index in this array.  \n",
    "        # The value '-1' of  colorArr[i] is used to  \n",
    "        # indicate that no color is assigned to  \n",
    "        # vertex 'i'. The value 1 is used to indicate  \n",
    "        # first color is assigned and value 0 \n",
    "        # indicates second color is assigned. \n",
    "        colorArr = [-1] * self.V \n",
    "  \n",
    "        # Assign first color to source \n",
    "        colorArr[src] = 1\n",
    "  \n",
    "        # Create a queue (FIFO) of vertex numbers and  \n",
    "        # enqueue source vertex for BFS traversal \n",
    "        queue = [] \n",
    "        queue.append(src) \n",
    "  \n",
    "        # Run while there are vertices in queue  \n",
    "        # (Similar to BFS) \n",
    "        while queue: \n",
    "  \n",
    "            u = queue.pop() \n",
    "  \n",
    "            # Return false if there is a self-loop \n",
    "            if self.graph[u][u] == 1: \n",
    "                return False; \n",
    "  \n",
    "            for v in range(self.V): \n",
    "  \n",
    "                # An edge from u to v exists and destination  \n",
    "                # v is not colored \n",
    "                if self.graph[u][v] == 1 and colorArr[v] == -1: \n",
    "  \n",
    "                    # Assign alternate color to this  \n",
    "                    # adjacent v of u \n",
    "                    colorArr[v] = 1 - colorArr[u] \n",
    "                    queue.append(v) \n",
    "  \n",
    "                # An edge from u to v exists and destination  \n",
    "                # v is colored with same color as u \n",
    "                elif self.graph[u][v] == 1 and colorArr[v] == colorArr[u]: \n",
    "                    return False\n",
    "  \n",
    "        # If we reach here, then all adjacent  \n",
    "        # vertices can be colored with alternate  \n",
    "        # color \n",
    "        return True\n",
    "  \n",
    "# Driver program to test above function \n",
    "g = Graph(4) \n",
    "g.graph = [[0, 1, 0, 1], \n",
    "            [1, 0, 1, 0], \n",
    "            [0, 1, 0, 1], \n",
    "            [1, 0, 1, 0] \n",
    "            ] \n",
    "              \n",
    "print \"Yes\" if g.isBipartite(0) else \"No\"\n",
    "  \n",
    "# This code is contributed by Divyanshu Mehta \n"
   ]
  },
  {
   "cell_type": "code",
   "execution_count": 6,
   "metadata": {},
   "outputs": [
    {
     "name": "stdout",
     "output_type": "stream",
     "text": [
      "<class 'bool'>\n"
     ]
    }
   ],
   "source": [
    "a = True\n",
    "print(type(a))"
   ]
  },
  {
   "cell_type": "code",
   "execution_count": 15,
   "metadata": {},
   "outputs": [
    {
     "name": "stdout",
     "output_type": "stream",
     "text": [
      "[[2, 5, 10], [1, 3, 4], [2, 8], [2, 5, 8], [1, 4, 6], [5, 7, 8], [6], [3, 4, 6, 9], [8, 10], [1, 9]]\n"
     ]
    }
   ],
   "source": [
    "# %%writefile twoColorable.py\n",
    "# Do not change the name of this file or the class name.\n",
    "class Graph:\n",
    "\n",
    "    def __init__(self, file_path):\n",
    "        self.graph_repr = self.store_graph(file_path)\n",
    "        print(self.graph_repr)\n",
    "\n",
    "    def store_graph(self, file_path):\n",
    "        \"\"\"Store graph as an adjacency matrix or adjacency list.\n",
    "\n",
    "        Arguments:\n",
    "            file_path (str): path of file storing graph in the following format:\n",
    "            The first line contains the number of vertices (|V |). The vertices\n",
    "            are numbered 1 through |V |. Each subsequent line contains a pair of\n",
    "            vertices such that each such pair defines an edge.\n",
    "\n",
    "        Returns:\n",
    "            graph_repr (list of list of int): an adjacency matrix or adjacency list storing graph\n",
    "        \"\"\"\n",
    "        with open(file_path,'r') as file:\n",
    "            n_nodes = int(file.readline().strip())\n",
    "            graph_repr = [[] for _ in range(n_nodes)]\n",
    "            for line in file:\n",
    "                v1, v2 = line.strip().split()\n",
    "                v1, v2 = int(v1), int(v2)\n",
    "                if v2 not in graph_repr[v1-1]: graph_repr[v1-1].append(v2)\n",
    "                if v1 not in graph_repr[v2-1]: graph_repr[v2-1].append(v1)\n",
    "\n",
    "        return graph_repr\n",
    "\n",
    "    def check_2colorable(self):\n",
    "        \"\"\"Determine whether or not the graph is 2-colorable and return colors.\n",
    "\n",
    "        Returns:\n",
    "            colors (list of list of int): a list containing 2 lists each\n",
    "            storing nodes of the same color. If graph is not 2-colorable,\n",
    "            return [[],[]]. example: [[1,3],[2,4,5]]\n",
    "        \"\"\"\n",
    "        pass\n",
    "\n",
    "def main():\n",
    "    #Main function, you can edit as needed\n",
    "    #Extra import may also be made locally in this function\n",
    "\n",
    "    graph = Graph('../data/smallgraph')\n",
    "    colors = graph.check_2colorable()\n",
    "\n",
    "\n",
    "if __name__ == '__main__':\n",
    "    main()\n"
   ]
  },
  {
   "cell_type": "code",
   "execution_count": 5,
   "metadata": {},
   "outputs": [
    {
     "name": "stdout",
     "output_type": "stream",
     "text": [
      "[1, 3, 5]\n"
     ]
    }
   ],
   "source": [
    "tmp2tmp = [1,3,5]\n",
    "print(tmp2tmp)"
   ]
  },
  {
   "cell_type": "code",
   "execution_count": 7,
   "metadata": {},
   "outputs": [],
   "source": [
    "tmp3 = [[],[]]"
   ]
  },
  {
   "cell_type": "code",
   "execution_count": 8,
   "metadata": {},
   "outputs": [
    {
     "name": "stdout",
     "output_type": "stream",
     "text": [
      "[[], []]\n"
     ]
    }
   ],
   "source": [
    "print(tmp3)"
   ]
  },
  {
   "cell_type": "code",
   "execution_count": 9,
   "metadata": {},
   "outputs": [
    {
     "name": "stdout",
     "output_type": "stream",
     "text": [
      "2\n"
     ]
    }
   ],
   "source": [
    "print(len(tmp3))"
   ]
  },
  {
   "cell_type": "code",
   "execution_count": 10,
   "metadata": {},
   "outputs": [
    {
     "name": "stdout",
     "output_type": "stream",
     "text": [
      "0\n"
     ]
    }
   ],
   "source": [
    "print(len(tmp3[0]))"
   ]
  },
  {
   "cell_type": "code",
   "execution_count": 11,
   "metadata": {},
   "outputs": [
    {
     "name": "stdout",
     "output_type": "stream",
     "text": [
      "<class 'int'>\n"
     ]
    }
   ],
   "source": [
    "tmp4 = 3\n",
    "print(type(tmp4))"
   ]
  }
 ],
 "metadata": {
  "kernelspec": {
   "display_name": "Python (CS689F20)",
   "language": "python",
   "name": "cs689f20"
  },
  "language_info": {
   "codemirror_mode": {
    "name": "ipython",
    "version": 3
   },
   "file_extension": ".py",
   "mimetype": "text/x-python",
   "name": "python",
   "nbconvert_exporter": "python",
   "pygments_lexer": "ipython3",
   "version": "3.6.12"
  }
 },
 "nbformat": 4,
 "nbformat_minor": 2
}
